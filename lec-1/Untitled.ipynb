{
 "cells": [
  {
   "cell_type": "markdown",
   "metadata": {},
   "source": [
    "# Ramblings: Regularización Paramétrica"
   ]
  },
  {
   "cell_type": "markdown",
   "metadata": {},
   "source": [
    "## Más intuición en la selección de atributos\n",
    "\n",
    "- Problema de MCO: Dependiente de la varianza (depende substancialmente del rango de valores).\n",
    "- Formas clásicas de selección de atributos:\n",
    "    - Selección de p-Values: tiende al sesgo de p-hacking\n",
    "        - http://www.stat.columbia.edu/~gelman/research/unpublished/p_hacking.pdf\n",
    "    - Evaluación de criterios condicional a los datos de entrenamiento\n"
   ]
  },
  {
   "cell_type": "markdown",
   "metadata": {},
   "source": [
    "## Aplicaciones\n",
    "\n",
    "* Inferencia causal: Selección ex-ante de ajuste de covariables\n",
    "    - http://www.jakebowers.org/PAPERS/BFHPAPSA2015.pdf\n",
    "\n",
    "* Text mining: Regularización de covariables en matrices corporizadas\n",
    "    - https://www.dropbox.com/s/v6q7gfcbv9feef5/Wu_EJMR_paper.pdf?dl=0"
   ]
  },
  {
   "cell_type": "markdown",
   "metadata": {},
   "source": [
    "## Sparse matrix\n",
    "\n",
    "![](https://dziganto.github.io/assets/images/sparse_matrix.png?raw=true)"
   ]
  },
  {
   "cell_type": "code",
   "execution_count": null,
   "metadata": {},
   "outputs": [],
   "source": []
  }
 ],
 "metadata": {
  "kernelspec": {
   "display_name": "Python 3",
   "language": "python",
   "name": "python3"
  },
  "language_info": {
   "codemirror_mode": {
    "name": "ipython",
    "version": 3
   },
   "file_extension": ".py",
   "mimetype": "text/x-python",
   "name": "python",
   "nbconvert_exporter": "python",
   "pygments_lexer": "ipython3",
   "version": "3.6.8"
  }
 },
 "nbformat": 4,
 "nbformat_minor": 2
}
